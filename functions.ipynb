{
  "nbformat": 4,
  "nbformat_minor": 0,
  "metadata": {
    "colab": {
      "name": "functions.ipynb",
      "provenance": [],
      "include_colab_link": true
    },
    "kernelspec": {
      "name": "python3",
      "display_name": "Python 3"
    },
    "language_info": {
      "name": "python"
    }
  },
  "cells": [
    {
      "cell_type": "markdown",
      "metadata": {
        "id": "view-in-github",
        "colab_type": "text"
      },
      "source": [
        "<a href=\"https://colab.research.google.com/github/KrishnakanthSrikanth/Python_Basics/blob/main/functions.ipynb\" target=\"_parent\"><img src=\"https://colab.research.google.com/assets/colab-badge.svg\" alt=\"Open In Colab\"/></a>"
      ]
    },
    {
      "cell_type": "code",
      "execution_count": 1,
      "metadata": {
        "id": "Eq3ZY4hp88WH",
        "colab": {
          "base_uri": "https://localhost:8080/"
        },
        "outputId": "c89f1fb2-e75b-4939-c355-a87afd5e8915"
      },
      "outputs": [
        {
          "output_type": "stream",
          "name": "stdout",
          "text": [
            "Type of number before int() function:  <class 'str'>\n",
            "Type of number after int() function:  <class 'int'>\n"
          ]
        }
      ],
      "source": [
        "number = '15'\n",
        "print('Type of number before int() function: ', type(number))\n",
        " \n",
        "number = int(number)\n",
        " \n",
        "print('Type of number after int() function: ', type(number))"
      ]
    },
    {
      "cell_type": "code",
      "source": [
        "def hello(name):\n",
        "  print('Hello', name)"
      ],
      "metadata": {
        "id": "7SnVeCSU9D52"
      },
      "execution_count": 2,
      "outputs": []
    },
    {
      "cell_type": "code",
      "source": [
        "hello('Deniz')"
      ],
      "metadata": {
        "colab": {
          "base_uri": "https://localhost:8080/"
        },
        "id": "06OaQ9mN9Hoa",
        "outputId": "abc719bf-7950-4c87-d2c5-e9251ccc45b4"
      },
      "execution_count": null,
      "outputs": [
        {
          "output_type": "stream",
          "name": "stdout",
          "text": [
            "Hello Deniz\n"
          ]
        }
      ]
    },
    {
      "cell_type": "code",
      "source": [
        "def sum(number1, number2):\n",
        "  print(number1 + number2)"
      ],
      "metadata": {
        "id": "7JnjY3wH9Tt1"
      },
      "execution_count": null,
      "outputs": []
    },
    {
      "cell_type": "code",
      "source": [
        "sum(3, 5)"
      ],
      "metadata": {
        "colab": {
          "base_uri": "https://localhost:8080/"
        },
        "id": "nhYIaQd_9VbX",
        "outputId": "2850983b-2581-4391-a2e7-df6cd8c3f577"
      },
      "execution_count": null,
      "outputs": [
        {
          "output_type": "stream",
          "name": "stdout",
          "text": [
            "8\n"
          ]
        }
      ]
    },
    {
      "cell_type": "code",
      "source": [
        "result = sum(3, 5)\n",
        "print(result)"
      ],
      "metadata": {
        "colab": {
          "base_uri": "https://localhost:8080/"
        },
        "id": "VFIqSIEX9W_7",
        "outputId": "f1b88711-3558-46ff-a69f-e8144cc090a2"
      },
      "execution_count": null,
      "outputs": [
        {
          "output_type": "stream",
          "name": "stdout",
          "text": [
            "8\n",
            "None\n"
          ]
        }
      ]
    },
    {
      "cell_type": "code",
      "source": [
        "def sum(number1, number2):\n",
        "  answer = number1 + number2\n",
        "  return answer\n",
        " \n",
        "result = sum(3, 5)\n",
        "print(result)"
      ],
      "metadata": {
        "colab": {
          "base_uri": "https://localhost:8080/"
        },
        "id": "j8AxtCY79asg",
        "outputId": "5cc4b310-79d0-4012-9b0e-aecb6a9f239e"
      },
      "execution_count": null,
      "outputs": [
        {
          "output_type": "stream",
          "name": "stdout",
          "text": [
            "8\n"
          ]
        }
      ]
    }
  ]
}