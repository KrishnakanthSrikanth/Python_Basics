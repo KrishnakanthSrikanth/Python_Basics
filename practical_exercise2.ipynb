{
  "nbformat": 4,
  "nbformat_minor": 0,
  "metadata": {
    "colab": {
      "name": "practical_exercise2.ipynb",
      "provenance": [],
      "collapsed_sections": [],
      "include_colab_link": true
    },
    "kernelspec": {
      "name": "python3",
      "display_name": "Python 3"
    },
    "language_info": {
      "name": "python"
    }
  },
  "cells": [
    {
      "cell_type": "markdown",
      "metadata": {
        "id": "view-in-github",
        "colab_type": "text"
      },
      "source": [
        "<a href=\"https://colab.research.google.com/github/KrishnakanthSrikanth/Python_Basics/blob/main/practical_exercise2.ipynb\" target=\"_parent\"><img src=\"https://colab.research.google.com/assets/colab-badge.svg\" alt=\"Open In Colab\"/></a>"
      ]
    },
    {
      "cell_type": "markdown",
      "source": [
        "# Practical exercise 2:  You are a game developer :)\n",
        "\n",
        "In this practical exercise you are a game developer. You will program your first game – Rock, Paper, Scissors.\n",
        "\n",
        "If you are not familiar with the game, you can read about it here: https://en.wikipedia.org/wiki/Rock_paper_scissors.\n",
        "\n",
        "You will program the game step by step. Please read the instructions carefully. There are hints and important explanations that will help you with this exercise."
      ],
      "metadata": {
        "id": "tBDsFMQwBs6Z"
      }
    },
    {
      "cell_type": "markdown",
      "source": [
        "##Warm up\n",
        "\n",
        "Each player can choose between the three actions \"rock\", \"paper\" and \"scissors\". First, you need to create a list that contains all possible actions. "
      ],
      "metadata": {
        "id": "ymULFKyosM3d"
      }
    },
    {
      "cell_type": "code",
      "source": [
        "#Please create a list containing the three actions of the game.\n",
        "options = [\"rock\", \"paper\", \"scissors\"]"
      ],
      "metadata": {
        "id": "0w6HGZBvsvru"
      },
      "execution_count": null,
      "outputs": []
    },
    {
      "cell_type": "markdown",
      "source": [
        "# Choose an action\n",
        "\n",
        "Now you have the list with the actions ready. The next step is to let Python randomly choose an action from this list. Each player has to make a choice, so Python has to make a choice for player 1 and another one for player 2.\n",
        "\n",
        "📌The built-in module \"random\" can help you with this. As you might remember from previous lessons you can use the .randint() method to generate random numbers.\n",
        "\n",
        "📌📌There is another method in the random module called .choice(). It takes a list as input and selects an item randomly from that list.\n",
        "\n"
      ],
      "metadata": {
        "id": "cnWVzlo1vBy8"
      }
    },
    {
      "cell_type": "code",
      "source": [
        "#Import the random library\n",
        "import random\n",
        "\n",
        "#Select a random action for each player\n",
        "action_1 = random.choice(options)\n",
        "action_2 = random.choice(options)\n",
        "\n",
        "#Use the print function to print the players choices\n",
        "print(\"Player 1 choice:\", action_1)\n",
        "print(\"Player 2 choice:\", action_2)"
      ],
      "metadata": {
        "id": "bdlEyJC2xPOw"
      },
      "execution_count": null,
      "outputs": []
    },
    {
      "cell_type": "markdown",
      "source": [
        "# Determine the winner\n",
        "\n",
        "So, who won? To determine the winner, you first have to specify all possible outcomes of the game. Then you can use conditional statements to specify which outcome will lead to a win for player 1 or player 2, or a tie.\n",
        "\n",
        "First, let's start with the outcome that both users chose the same action: a tie!\n",
        "In case of a tie, the game should print the message \"Tie! Both players chose the same action.\" to the screen.\n",
        "\n",
        "📌Use conditional statements to check whether the players actions are equal to each other and *if* this condition is true the message should be printed."
      ],
      "metadata": {
        "id": "Yr7uQq1J2k6p"
      }
    },
    {
      "cell_type": "code",
      "source": [
        "#1 - Tie Condition\n",
        "#Please write an if statement to check if the players chose the same action\n",
        "if action_1 == action_2:\n",
        "  print (\"Its a tie!\")\n"
      ],
      "metadata": {
        "id": "8S1F2r8NtEoN"
      },
      "execution_count": null,
      "outputs": []
    },
    {
      "cell_type": "markdown",
      "source": [
        "Now, let's focus on the remaining outcomes. We have three different actions: rock, paper and scissors.\n",
        "\n",
        "This is a list of all the possible combinations (without those that result in a tie):\n",
        "\n",
        "1.   (paper, rock)\n",
        "2.   (paper, scissors)\n",
        "3.   (scissors, rock)\n",
        "4.   (scissors, paper)\n",
        "5.   (rock, paper)\n",
        "6.   (rock, scissors)\n",
        "\n",
        "You need to check all these conditions in order to determine the winner.\n",
        "\n",
        "📌You can use the \"and\" operator to combine two actions in one conditional statement.\n",
        "\n",
        "📌📌Another approach is using nested if statements to check whether the action of player 2 beats the action of player 1.\n",
        "\n",
        "🧨💣In the cell, first copy the code you wrote for \"Tie\" conditions. Then continue to add the other outcomes using \"elif\".\n",
        "\n",
        "\n"
      ],
      "metadata": {
        "id": "6aKSif7rItma"
      }
    },
    {
      "cell_type": "code",
      "source": [
        "#Copy your code of the tie-conditions here\n",
        "#1 - Tie Condition\n",
        "if action_1 == action_2:\n",
        "  print (\"Its a tie!\")\n",
        "\n",
        "#2-Winning Conditions\n",
        "#Please add the conditional statements for the remaining combinations \n",
        "elif (action_1 == 'rock' and action_2 == 'paper') or (action_1 == 'scissors' and action_2 == 'rock') or (action_1 == 'paper' and action_2 == 'scissors'):\n",
        "  #winner = player_2\n",
        "  print(\"Player 2 wins!\")\n",
        "#winner = player_1\n",
        "print(\"Player 1 wins!\")"
      ],
      "metadata": {
        "id": "Ix9sskr5z6Td"
      },
      "execution_count": null,
      "outputs": []
    },
    {
      "cell_type": "markdown",
      "source": [
        "# Best of 3 or 5 or single round ? :)\n",
        "\n",
        "Now that you have your game set, let's also ask the users how many rounds they want to play.\n",
        "\n",
        "📌 You can use the input function for this.\n",
        "\n",
        "And because there are multiple rounds, you need to keep track of the score. For this, you need to create a variable for each player that is 0 in the beginning.\n"
      ],
      "metadata": {
        "id": "7Ixf-AHqIhcV"
      }
    },
    {
      "cell_type": "code",
      "source": [
        "#Please ask the user how many rounds they want to play\n",
        "games = int(input(\"Hey player, how many rounds you wish to play?)\"))\n",
        "\n",
        "#Scores of players\n",
        "player_1_score = 0\n",
        "player_2_score = 0\n"
      ],
      "metadata": {
        "id": "_kbrpXXkBU_d"
      },
      "execution_count": null,
      "outputs": []
    },
    {
      "cell_type": "markdown",
      "source": [
        "# Use a for loop to specify the number of rounds \n",
        "The user specified how many rounds he or she wants to play. \n",
        "\n",
        "One way to use this information is to put the game inside of a for loop.\n",
        "\n",
        "📌 You can use a for loop and the range() function to repeat the loop for a specified number of times.\n",
        "\n",
        "📌📌 Don't forget to convert the user input to the data type integer. You can use the int() function for this.\n",
        "\n",
        "📌📌📌 Don't forget to increment or add 1 to the score of the players that win, and print the current score after each round. You can use the assignment operator +=1 for this. "
      ],
      "metadata": {
        "id": "nzIGT6s_CWvP"
      }
    },
    {
      "cell_type": "code",
      "source": [
        "#Collect all the components of your program to run it in a for loop\n",
        "#Import the random library\n",
        "import random\n",
        "\n",
        "#Add the code to create a list containing the three actions of the game.\n",
        "options = [\"rock\", \"paper\", \"scissors\"]\n",
        "\n",
        "#Add the code to set the scores of players to 0\n",
        "player_1_score = 0\n",
        "player_2_score = 0\n",
        "\n",
        "#Add the code to ask the user how many rounds they want to play\n",
        "games = int(input(\"Hey player, how many games you wish to play?\"))\n",
        "\n",
        "#Write a for loop and put the game inside\n",
        "for i in range(1,games+1):\n",
        "\n",
        "\n",
        "  #Add the code to select a random action for each player\n",
        "  action_1 = random.choice(options)\n",
        "  action_2 = random.choice(options)\n",
        "\n",
        "  #Add the code to print the players choices\n",
        "  print(\"Player 1 choice:\", action_1)\n",
        "  print(\"Player 2 choice:\", action_2)\n",
        "\n",
        "  #Add the tie condition\n",
        "  if action_1 == action_2:\n",
        "    print(\"Its a tie!\")\n",
        "\n",
        "  #Add the remaining condition\n",
        "\n",
        "  elif (action_1 == 'rock' and action_2 == 'paper') or (action_1 == 'scissors' and action_2 == 'rock') or (action_1 == 'paper' and action_2 == 'scissors'):\n",
        "  #winner = player_2\n",
        "    player_2_score += 1\n",
        "    print(\"Player 2 wins!\")\n",
        "#winner = player_1\n",
        "  else:\n",
        "    player_1_score += 1\n",
        "    print(\"Player 1 wins!\")\n",
        "\n",
        "  #print the score\n",
        "  print(\"Player 1 score:\", player_1_score)\n",
        "  print(\"Player 2 score:\", player_2_score)\n",
        "\n"
      ],
      "metadata": {
        "id": "Wy7CLLRNCV3X",
        "colab": {
          "base_uri": "https://localhost:8080/"
        },
        "outputId": "1d7adc1a-f7da-472d-cd48-51eb5deb7698"
      },
      "execution_count": 2,
      "outputs": [
        {
          "output_type": "stream",
          "name": "stdout",
          "text": [
            "Hey player, how many games you wish to play?2\n",
            "Player 1 choice: scissors\n",
            "Player 2 choice: scissors\n",
            "Its a tie!\n",
            "Player 1 score: 0\n",
            "Player 2 score: 0\n",
            "Player 1 choice: paper\n",
            "Player 2 choice: rock\n",
            "Player 1 wins!\n",
            "Player 1 score: 1\n",
            "Player 2 score: 0\n"
          ]
        }
      ]
    },
    {
      "cell_type": "markdown",
      "source": [
        "# Use a while loop to specify the number of rounds - Part 1\n",
        "\n",
        "In this module we also learned about while loops. Another way to play the game over and over again is using a while loop. \n",
        "\n",
        "This time, let's put the game inside a while loop.\n",
        "\n",
        "📌 You can directly use the value *True* to specify that the while loop should be executed. \n",
        "\n",
        "💣 By the way: Another very common name for True/False values is \"**Boolean values**\" or \"**Bools**\" in short.\n",
        "\n",
        "🧨🧨 Caution! Since we run the game in an while loop, you have to stop the game manually. Otherwise it will run infinitely.\n"
      ],
      "metadata": {
        "id": "QQIXQsmRwGqB"
      }
    },
    {
      "cell_type": "code",
      "source": [
        "#Collect all the components of your program to run it in a while loop\n",
        "#Import the random library\n",
        "import random\n",
        "\n",
        "#Add the code to create a list containing the three actions of the game.\n",
        "options = [\"rock\", \"paper\", \"scissors\"]\n",
        "\n",
        "#Add the code to set the scores of players to 0\n",
        "player_1 = 0\n",
        "player_2 = 0\n",
        "\n",
        "#Write a while loop and put the game inside\n",
        "while True:\n",
        "\n",
        "  #Add the code to select a random action for each player\n",
        "  action_1 = random.choice(options)\n",
        "  action_2 = random.choice(options)\n",
        "\n",
        "  #Add the code to print the players choices\n",
        "  print(\"Player 1 choice:\", action_1)\n",
        "  print(\"Player 2 choice:\", action_2)\n",
        "\n",
        "  #Add the tie condition\n",
        "  if action_1 == action_2:\n",
        "    print(\"Its a tie!\")\n",
        "\n",
        "  #Add the remaining condition\n",
        "  elif (action_1 == 'rock' and action_2 == 'paper') or (action_1 == 'scissors' and action_2 == 'rock') or (action_1 == 'paper' and action_2 == 'scissors'):\n",
        "  #winner = player_2\n",
        "    player_2 += 1\n",
        "    print(\"Player 2 wins!\")\n",
        "#winner = player_1\n",
        "  else:\n",
        "    player_1 += 1\n",
        "    print(\"Player 1 wins!\")\n",
        "\n",
        "  #print the score\n",
        "  print(\"Player 1 score:\", player_1)\n",
        "  print(\"Player 2 score:\", player_2)\n"
      ],
      "metadata": {
        "id": "dvTr4HR4wF4n"
      },
      "execution_count": null,
      "outputs": []
    },
    {
      "cell_type": "markdown",
      "source": [
        "# Use a while loop to specify the number of rounds - Part 2\n",
        "\n",
        "Now the game runs infinitely and the user can end it manually. But there is a more efficient way to do this: Let's ask the user again how many rounds they want to play, just as you did for the game inside the for loop.\n",
        "\n",
        "To prevent an infinite loop, you need to add a round_counter that is 0 at the beginning. In each round, this counter needs to increase by 1. \n",
        "\n",
        "At the end of your while loop, you need to add an \"if\" condition to check whether the round_counter is equal to the number of rounds that we got from user as an input. If this is the case, we need to use \"**break**\" to end the game.\n",
        "\n",
        "Once we end the game, it would be nice to see a message that prints the winner to the screen. In case of a tie, it should print a message that the game ended in a tie.\n",
        "\n",
        "📌 You can use \"if\" and \"elif\" statements to determine the winner at the end."
      ],
      "metadata": {
        "id": "YKVAuxIsjaE6"
      }
    },
    {
      "cell_type": "code",
      "source": [
        "#Collect all the components of your program to run it in a while loop\n",
        "#Import the random library\n",
        "import random\n",
        "\n",
        "#Add the code to create a list containing the three actions of the game.\n",
        "options = [\"paper\", \"scissors\", \"rock\"]\n",
        "\n",
        "#Add the code to set the scores of players to 0\n",
        "player_1 = 0\n",
        "player_2 = 0\n",
        "#Add a round_counter that is 0 at the beginning\n",
        "counter = 0\n",
        "\n",
        "#Add the code to ask the user how many rounds they want to play\n",
        "games = int(input(\"Hey player, how many games you wish to play?\"))\n",
        "\n",
        "#Write a while loop and put the game inside\n",
        "while counter < games:\n",
        "\n",
        "  #increase round_counter by 1 and print it\n",
        "  counter += 1\n",
        "  print(\"Game Count:\", counter)\n",
        "\n",
        "  #Add the code to select a random action for each player\n",
        "  action_1 = random.choice(options)\n",
        "  action_2 = random.choice(options)\n",
        "  #Add the code to print the players choices\n",
        "  print(\"Player 1 choice:\", action_1)\n",
        "  print(\"Player 2 choice:\", action_2)\n",
        "\n",
        "  #Add the tie condition\n",
        "  if action_1 == action_2:\n",
        "    print(\"Its a tie!\")\n",
        "\n",
        "  #Add the remaining condition\n",
        "\n",
        "  elif (action_1 == 'rock' and action_2 == 'paper') or (action_1 == 'scissors' and action_2 == 'rock') or (action_1 == 'paper' and action_2 == 'scissors'):\n",
        "  #winner = player_2\n",
        "    player_2 += 1\n",
        "    print(\"Player 2 wins!\")\n",
        "#winner = player_1\n",
        "  else:\n",
        "    player_1 += 1\n",
        "    print(\"Player 1 wins!\")\n",
        "\n",
        "  #print the score\n",
        "  print(\"Player 1 score:\", player_1)\n",
        "  print(\"Player 2 score:\", player_2)\n",
        "\n",
        "  #stop the while loop if the round_counter equals the number of total rounds\n",
        "\n",
        "#Print the outcome of the game by using conditional statements\n",
        "if player_1 == player_2:\n",
        "  print(\"Scores level!\")\n",
        "elif player_1 > player_2:\n",
        "  print(\"Player 1 wins the majority games!\")\n",
        "else:\n",
        "  print(\"Player 2 wins the majority games\")"
      ],
      "metadata": {
        "id": "emrjgYoXjYCR",
        "colab": {
          "base_uri": "https://localhost:8080/"
        },
        "outputId": "65e07318-9aa6-4523-86f7-3866647ddb63"
      },
      "execution_count": 7,
      "outputs": [
        {
          "output_type": "stream",
          "name": "stdout",
          "text": [
            "Hey player, how many games you wish to play?3\n",
            "Game Count: 1\n",
            "Player 1 choice: paper\n",
            "Player 2 choice: scissors\n",
            "Player 2 wins!\n",
            "Player 1 score: 0\n",
            "Player 2 score: 1\n",
            "Game Count: 2\n",
            "Player 1 choice: paper\n",
            "Player 2 choice: scissors\n",
            "Player 2 wins!\n",
            "Player 1 score: 0\n",
            "Player 2 score: 2\n",
            "Game Count: 3\n",
            "Player 1 choice: scissors\n",
            "Player 2 choice: paper\n",
            "Player 1 wins!\n",
            "Player 1 score: 1\n",
            "Player 2 score: 2\n",
            "Player 2 wins the majority games\n"
          ]
        }
      ]
    }
  ]
}